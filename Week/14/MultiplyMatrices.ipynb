{
  "nbformat": 4,
  "nbformat_minor": 0,
  "metadata": {
    "colab": {
      "provenance": []
    },
    "kernelspec": {
      "name": "python3",
      "display_name": "Python 3"
    },
    "language_info": {
      "name": "python"
    }
  },
  "cells": [
    {
      "cell_type": "markdown",
      "source": [
        "# Multiplying Matrices\n",
        "\n",
        "Multiplying Matrices\n",
        "\n",
        "## Setup\n",
        "\n",
        "- Check CUDA version"
      ],
      "metadata": {
        "id": "EduWhlsRCoT0"
      }
    },
    {
      "cell_type": "code",
      "execution_count": 4,
      "metadata": {
        "colab": {
          "base_uri": "https://localhost:8080/"
        },
        "id": "cs2lm0IQCDKb",
        "outputId": "28c2c743-8fa1-45e0-b3f4-064e00b7a066"
      },
      "outputs": [
        {
          "output_type": "stream",
          "name": "stdout",
          "text": [
            "nvcc: NVIDIA (R) Cuda compiler driver\n",
            "Copyright (c) 2005-2022 NVIDIA Corporation\n",
            "Built on Wed_Sep_21_10:33:58_PDT_2022\n",
            "Cuda compilation tools, release 11.8, V11.8.89\n",
            "Build cuda_11.8.r11.8/compiler.31833905_0\n"
          ]
        }
      ],
      "source": [
        "!nvcc --version"
      ]
    },
    {
      "cell_type": "markdown",
      "source": [
        "- Install C-language support"
      ],
      "metadata": {
        "id": "YCh66RdYDLxS"
      }
    },
    {
      "cell_type": "code",
      "source": [
        "!pip install git+https://github.com/andreinechaev/nvcc4jupyter.git"
      ],
      "metadata": {
        "colab": {
          "base_uri": "https://localhost:8080/"
        },
        "id": "FXMCyzjNDPSC",
        "outputId": "151a88a0-5f01-4aa3-968e-cd0f15453d8c"
      },
      "execution_count": 5,
      "outputs": [
        {
          "output_type": "stream",
          "name": "stdout",
          "text": [
            "Collecting git+https://github.com/andreinechaev/nvcc4jupyter.git\n",
            "  Cloning https://github.com/andreinechaev/nvcc4jupyter.git to /tmp/pip-req-build-6g1ggvb6\n",
            "  Running command git clone --filter=blob:none --quiet https://github.com/andreinechaev/nvcc4jupyter.git /tmp/pip-req-build-6g1ggvb6\n",
            "  Resolved https://github.com/andreinechaev/nvcc4jupyter.git to commit 0a71d56e5dce3ff1f0dd2c47c29367629262f527\n",
            "  Preparing metadata (setup.py) ... \u001b[?25l\u001b[?25hdone\n"
          ]
        }
      ]
    },
    {
      "cell_type": "markdown",
      "source": [
        "- Load plugin"
      ],
      "metadata": {
        "id": "nmpHo3DjDWYB"
      }
    },
    {
      "cell_type": "code",
      "source": [
        "%load_ext nvcc_plugin"
      ],
      "metadata": {
        "colab": {
          "base_uri": "https://localhost:8080/"
        },
        "id": "l7P_rta2DYs7",
        "outputId": "69ff6d74-cfda-4a2e-8f03-334324684c06"
      },
      "execution_count": 6,
      "outputs": [
        {
          "output_type": "stream",
          "name": "stdout",
          "text": [
            "The nvcc_plugin extension is already loaded. To reload it, use:\n",
            "  %reload_ext nvcc_plugin\n"
          ]
        }
      ]
    },
    {
      "cell_type": "markdown",
      "source": [
        "## Multiply matrices\n",
        "\n",
        "- Multiply matrices"
      ],
      "metadata": {
        "id": "BDWwabrFEPg_"
      }
    },
    {
      "cell_type": "code",
      "source": [
        "%%cu\n",
        "// Using CUDA libraries in CoLab\n",
        "#include <stdio.h>\n",
        "\n",
        "// Device function that runs on the GPU - indicated by `__global__`\n",
        "__global__ void matrixMultiply(float *a, float *b, float *c, int n) {\n",
        "  // Calculate the row and column index of the element to compute\n",
        "  int row = blockIdx.y * blockDim.y + threadIdx.y;\n",
        "  int col = blockIdx.x * blockDim.x + threadIdx.x;\n",
        "\n",
        "  // Check if the index is within the bounds of the matrices\n",
        "  if (row >= n || col >= n) return;\n",
        "\n",
        "  // Initialize the sum\n",
        "  float sum = 0.0f;\n",
        "\n",
        "  // Loop over the common dimension of a and b\n",
        "  for (int i = 0; i < n; i++)\n",
        "  {\n",
        "    // Accumulate the product of the corresponding elements of a and b\n",
        "    sum += a[row * n + i] * b[i * n + col];\n",
        "  }\n",
        "\n",
        "  // Store the result in c\n",
        "  c[row * n + col] = sum;\n",
        "}\n",
        "\n",
        "// Host function runs on the CPU\n",
        "int main() {\n",
        "  // Define a timer variable\n",
        "  cudaEvent_t start, stop;\n",
        "  float time;\n",
        "\n",
        "  // Define the matrix size\n",
        "  int n = 1024;\n",
        "\n",
        "  // Allocate host memory for the matrices\n",
        "  float *h_A = (float *)malloc(n * n * sizeof(float));\n",
        "  float *h_B = (float *)malloc(n * n * sizeof(float));\n",
        "  float *h_C = (float *)malloc(n * n * sizeof(float));\n",
        "\n",
        "  // Initialize the matrices with random values\n",
        "  for (int i = 0; i < n * n; i++)\n",
        "  {\n",
        "    h_A[i] = rand() / (float)RAND_MAX;\n",
        "    h_B[i] = rand() / (float)RAND_MAX;\n",
        "  }\n",
        "\n",
        "  // Allocate device memory for the matrices\n",
        "  float *d_A, *d_B, *d_C;\n",
        "  cudaMalloc(&d_A, n * n * sizeof(float));\n",
        "  cudaMalloc(&d_B, n * n * sizeof(float));\n",
        "  cudaMalloc(&d_C, n * n * sizeof(float));\n",
        "\n",
        "  // Create and start the timer\n",
        "  cudaEventCreate(&start);\n",
        "  cudaEventCreate(&stop);\n",
        "  cudaEventRecord(start, 0);\n",
        "\n",
        "  // Copy the matrices from host to device\n",
        "  cudaMemcpy(d_A, h_A, n * n * sizeof(float), cudaMemcpyHostToDevice);\n",
        "  cudaMemcpy(d_B, h_B, n * n * sizeof(float), cudaMemcpyHostToDevice);\n",
        "\n",
        "  // Define the block and grid dimensions\n",
        "  int blockSize = 32;\n",
        "  dim3 dimBlock(blockSize, blockSize);\n",
        "  dim3 dimGrid((n + blockSize - 1) / blockSize, (n + blockSize - 1) / blockSize);\n",
        "\n",
        "  // Launch the kernel\n",
        "  matrixMultiply<<<dimGrid, dimBlock>>>(d_A, d_B, d_C, n);\n",
        "\n",
        "  // Copy the result from device to host\n",
        "  cudaMemcpy(h_C, d_C, n * n * sizeof(float), cudaMemcpyDeviceToHost);\n",
        "\n",
        "  // Stop and destroy the timer\n",
        "  cudaEventRecord(stop, 0);\n",
        "  cudaEventSynchronize(stop);\n",
        "  cudaEventElapsedTime(&time, start, stop);\n",
        "  cudaEventDestroy(start);\n",
        "  cudaEventDestroy(stop);\n",
        "\n",
        "  // Free the device memory\n",
        "  cudaFree(d_A);\n",
        "  cudaFree(d_B);\n",
        "  cudaFree(d_C);\n",
        "\n",
        "  // Free the host memory\n",
        "  free(h_A);\n",
        "  free(h_B);\n",
        "  free(h_C);\n",
        "\n",
        "  printf(\"Matrix multiplication took %f milliseconds\\n\", time);\n",
        "\n",
        "  // Return 0 to indicate success\n",
        "  return 0;\n",
        "}"
      ],
      "metadata": {
        "colab": {
          "base_uri": "https://localhost:8080/"
        },
        "id": "cg9dGeEGEhUK",
        "outputId": "05f0e272-03e9-42ec-de0c-b041dee8becd"
      },
      "execution_count": 10,
      "outputs": [
        {
          "output_type": "stream",
          "name": "stdout",
          "text": [
            "Matrix multiplication took 0.000000 milliseconds\n",
            "\n"
          ]
        }
      ]
    }
  ]
}